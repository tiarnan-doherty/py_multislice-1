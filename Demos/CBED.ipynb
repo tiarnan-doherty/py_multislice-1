{
 "cells": [
  {
   "cell_type": "markdown",
   "metadata": {},
   "source": [
    "We will simulate convergent beam electron diffraction (CBED) patterns for Dicalcium aluminium alumosilicate (http://www.crystallography.net/cod/1000048.html). This calculation ran in 22 seconds on my home 2 GB NVIDIA GTX 750 Ti and 5 min 22 seconds on my Intel i5 CPU."
   ]
  },
  {
   "cell_type": "code",
   "execution_count": 65,
   "metadata": {
    "tags": []
   },
   "outputs": [
    {
     "name": "stdout",
     "output_type": "stream",
     "text": [
      "407.825\n"
     ]
    }
   ],
   "source": [
    "import pyms\n",
    "import numpy as np\n",
    "import torch\n",
    "\n",
    "# Get crystal\n",
    "crystal = pyms.structure.fromfile('Structures/Au_001.xyz', atomic_coordinates = 'cartesian')\n",
    "\n",
    "# Quick plot of crystal\n",
    "# crystal.quickplot()\n",
    "\n",
    "# Grid size in pixels\n",
    "gridshape = [256,256]\n",
    "\n",
    "# Tile out grid to acceptable size\n",
    "tiling = [1,1]\n",
    "\n",
    "# Probe accelerating voltage in eV\n",
    "eV = 3e5\n",
    "\n",
    "# Probe forming aperture in mrad\n",
    "app = 0.000000000001\n",
    "\n",
    "# Number of frozen phonon passes\n",
    "nfph = 1\n",
    "\n",
    "# Choose device to run calculation on (GPU or CPU)\n",
    "# device = torch.device('cpu')\n",
    "device = torch.device('cpu')\n",
    "\n",
    "nslices = int(np.ceil(crystal.unitcell[2]/1))\n",
    "slices = np.linspace(1.0/nslices,1.0,nslices)\n",
    "slices[-1]=1.0\n",
    "\n",
    "# Set up thickness series (up to a 1000 Angstrom in steps of 100 Angstrom)\n",
    "tstep = 100\n",
    "thicknesses = np.arange(tstep,1001,tstep)\n",
    "thicknesses = crystal.unitcell[2]\n",
    "print(thicknesses)\n",
    "    \n",
    "output = pyms.CBED(\n",
    "    crystal,\n",
    "    gridshape,\n",
    "    eV,\n",
    "    app,\n",
    "    thicknesses,\n",
    "    subslices=slices,\n",
    "    tiling=tiling,\n",
    "    nfph=nfph,\n",
    "    showProgress=False,\n",
    "    device_type=device,\n",
    ")\n",
    "\n"
   ]
  },
  {
   "cell_type": "code",
   "execution_count": 66,
   "metadata": {},
   "outputs": [
    {
     "data": {
      "text/plain": [
       "<matplotlib.image.AxesImage at 0x7fa9632c7110>"
      ]
     },
     "execution_count": 66,
     "metadata": {},
     "output_type": "execute_result"
    },
    {
     "data": {
      "image/png": "[encoded data removed]",
      "text/plain": [
       "<Figure size 640x480 with 1 Axes>"
      ]
     },
     "metadata": {},
     "output_type": "display_data"
    }
   ],
   "source": [
    "#Now plot results\n",
    "import matplotlib.pyplot as plt\n",
    "%matplotlib inline\n",
    "plt.imshow(output[0,:,:]/np.sum(output[0,:,:]), vmax = 0.01)"
   ]
  },
  {
   "cell_type": "code",
   "execution_count": null,
   "metadata": {},
   "outputs": [],
   "source": []
  }
 ],
 "metadata": {
  "kernelspec": {
   "display_name": "pyms_og",
   "language": "python",
   "name": "python3"
  },
  "language_info": {
   "codemirror_mode": {
    "name": "ipython",
    "version": 3
   },
   "file_extension": ".py",
   "mimetype": "text/x-python",
   "name": "python",
   "nbconvert_exporter": "python",
   "pygments_lexer": "ipython3",
   "version": "3.11.3"
  },
  "vscode": {
   "interpreter": {
    "hash": "202a5cb1b9858a12568be1e4b17fefeeb1d885ada38b6bced3e4d2bdc064fdf2"
   }
  }
 },
 "nbformat": 4,
 "nbformat_minor": 2
}
