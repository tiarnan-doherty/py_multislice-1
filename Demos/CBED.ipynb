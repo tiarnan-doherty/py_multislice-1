{
 "cells": [
  {
   "cell_type": "markdown",
   "metadata": {},
   "source": [
    "We will simulate convergent beam electron diffraction (CBED) patterns for Dicalcium aluminium alumosilicate (http://www.crystallography.net/cod/1000048.html). This calculation ran in 22 seconds on my home 2 GB NVIDIA GTX 750 Ti and 5 min 22 seconds on my Intel i5 CPU."
   ]
  },
  {
   "cell_type": "code",
   "execution_count": 12,
   "metadata": {
    "tags": []
   },
   "outputs": [
    {
     "name": "stdout",
     "output_type": "stream",
     "text": [
      "5.0636\n",
      "P.shape: torch.Size([4, 3, 1024, 1024])\n",
      "P.shape: torch.Size([4, 3, 1024, 1024])\n",
      "P.shape: torch.Size([4, 3, 1024, 1024])\n",
      "P.shape: torch.Size([4, 3, 1024, 1024])\n",
      "P.shape: torch.Size([4, 3, 1024, 1024])\n",
      "[41]\n",
      "0\n",
      "41\n",
      "T.shape:torch.Size([5, 3, 1024, 1024])\n",
      "[  0   1   2   3   4   5   6   7   8   9  10  11  12  13  14  15  16  17\n",
      "  18  19  20  21  22  23  24  25  26  27  28  29  30  31  32  33  34  35\n",
      "  36  37  38  39  40  41  42  43  44  45  46  47  48  49  50  51  52  53\n",
      "  54  55  56  57  58  59  60  61  62  63  64  65  66  67  68  69  70  71\n",
      "  72  73  74  75  76  77  78  79  80  81  82  83  84  85  86  87  88  89\n",
      "  90  91  92  93  94  95  96  97  98  99 100 101 102 103 104 105 106 107\n",
      " 108 109 110 111 112 113 114 115 116 117 118 119 120 121 122]\n",
      "0\n",
      "41\n",
      "T.shape:torch.Size([5, 3, 1024, 1024])\n",
      "[  0   1   2   3   4   5   6   7   8   9  10  11  12  13  14  15  16  17\n",
      "  18  19  20  21  22  23  24  25  26  27  28  29  30  31  32  33  34  35\n",
      "  36  37  38  39  40  41  42  43  44  45  46  47  48  49  50  51  52  53\n",
      "  54  55  56  57  58  59  60  61  62  63  64  65  66  67  68  69  70  71\n",
      "  72  73  74  75  76  77  78  79  80  81  82  83  84  85  86  87  88  89\n",
      "  90  91  92  93  94  95  96  97  98  99 100 101 102 103 104 105 106 107\n",
      " 108 109 110 111 112 113 114 115 116 117 118 119 120 121 122]\n",
      "0\n",
      "41\n",
      "T.shape:torch.Size([5, 3, 1024, 1024])\n",
      "[  0   1   2   3   4   5   6   7   8   9  10  11  12  13  14  15  16  17\n",
      "  18  19  20  21  22  23  24  25  26  27  28  29  30  31  32  33  34  35\n",
      "  36  37  38  39  40  41  42  43  44  45  46  47  48  49  50  51  52  53\n",
      "  54  55  56  57  58  59  60  61  62  63  64  65  66  67  68  69  70  71\n",
      "  72  73  74  75  76  77  78  79  80  81  82  83  84  85  86  87  88  89\n",
      "  90  91  92  93  94  95  96  97  98  99 100 101 102 103 104 105 106 107\n",
      " 108 109 110 111 112 113 114 115 116 117 118 119 120 121 122]\n"
     ]
    }
   ],
   "source": [
    "import pyms\n",
    "import numpy as np\n",
    "import torch\n",
    "\n",
    "# Get crystal\n",
    "crystal = pyms.structure.fromfile('Structures/1000048.p1',temperature_factor_units='B')\n",
    "\n",
    "# Quick plot of crystal\n",
    "# crystal.quickplot()\n",
    "\n",
    "# Grid size in pixels\n",
    "gridshape = [1024,1024]\n",
    "\n",
    "# Tile out grid to acceptable size\n",
    "tiling = [32,32]\n",
    "\n",
    "# Probe accelerating voltage in eV\n",
    "eV = 3e5\n",
    "\n",
    "# Probe forming aperture in mrad\n",
    "app = 10\n",
    "\n",
    "# Number of frozen phonon passes\n",
    "nfph = 3\n",
    "\n",
    "# Choose device to run calculation on (GPU or CPU)\n",
    "# device = torch.device('cpu')\n",
    "device = torch.device('cpu')\n",
    "\n",
    "subslices = [0.33, 0.66, 1.0]\n",
    "\n",
    "# Set up thickness series (up to a 1000 Angstrom in steps of 100 Angstrom)\n",
    "tstep = 100\n",
    "thicknesses = np.arange(tstep,1001,tstep)\n",
    "thicknesses = crystal.unitcell[2]\n",
    "print(thicknesses)\n",
    "    \n",
    "output = pyms.HRTEM(\n",
    "    crystal,\n",
    "    gridshape,\n",
    "    eV,\n",
    "    app,\n",
    "    thicknesses = 204,\n",
    "    subslices=subslices,\n",
    "    tiling=tiling,\n",
    "    nfph=nfph,\n",
    "    nT = 5,\n",
    "    showProgress=False,\n",
    "    device_type=device,\n",
    ")\n",
    "\n"
   ]
  },
  {
   "cell_type": "code",
   "execution_count": 2,
   "metadata": {},
   "outputs": [
    {
     "data": {
      "text/plain": [
       "<matplotlib.image.AxesImage at 0x7f5359d73d50>"
      ]
     },
     "execution_count": 2,
     "metadata": {},
     "output_type": "execute_result"
    },
    {
     "data": {
      "image/png": "[encoded data removed]",
      "text/plain": [
       "<Figure size 640x480 with 1 Axes>"
      ]
     },
     "metadata": {},
     "output_type": "display_data"
    }
   ],
   "source": [
    "\n",
    "import matplotlib.pyplot as plt\n",
    "plt.imshow(output, vmax = 100)"
   ]
  },
  {
   "cell_type": "code",
   "execution_count": 3,
   "metadata": {},
   "outputs": [
    {
     "data": {
      "text/plain": [
       "<matplotlib.image.AxesImage at 0x7f5359bef410>"
      ]
     },
     "execution_count": 3,
     "metadata": {},
     "output_type": "execute_result"
    },
    {
     "data": {
      "image/png": "[encoded data removed]",
      "text/plain": [
       "<Figure size 640x480 with 1 Axes>"
      ]
     },
     "metadata": {},
     "output_type": "display_data"
    }
   ],
   "source": [
    "#Now plot results\n",
    "import matplotlib.pyplot as plt\n",
    "%matplotlib inline\n",
    "plt.imshow(output[27:144, 27:144]/np.sum(output[27:144, 27:144]), vmax = 0.05)"
   ]
  },
  {
   "cell_type": "code",
   "execution_count": 4,
   "metadata": {},
   "outputs": [],
   "source": [
    "normalised_intensities = output/np.sum(output)"
   ]
  },
  {
   "cell_type": "code",
   "execution_count": 5,
   "metadata": {},
   "outputs": [],
   "source": [
    "ints_refinement = np.load('/scratch-ssd/tiarty/data/28_06_23_AU_optimisation_data/001_Au_28_06_23.npy')"
   ]
  },
  {
   "cell_type": "code",
   "execution_count": 6,
   "metadata": {},
   "outputs": [],
   "source": [
    "ints = normalised_intensities[ints_refinement[:,1].astype(int), ints_refinement[:,2].astype(int)]"
   ]
  },
  {
   "cell_type": "code",
   "execution_count": 7,
   "metadata": {},
   "outputs": [
    {
     "data": {
      "text/plain": [
       "0.9999497130224411"
      ]
     },
     "execution_count": 7,
     "metadata": {},
     "output_type": "execute_result"
    }
   ],
   "source": [
    "Rbragg = (np.sum(np.abs(ints_refinement[:,0] - ints))/np.sum(np.abs(ints_refinement[:,0])))\n",
    "Rbragg"
   ]
  },
  {
   "cell_type": "code",
   "execution_count": 8,
   "metadata": {},
   "outputs": [
    {
     "ename": "IndexError",
     "evalue": "too many indices for array: array is 2-dimensional, but 3 were indexed",
     "output_type": "error",
     "traceback": [
      "\u001b[0;31m---------------------------------------------------------------------------\u001b[0m",
      "\u001b[0;31mIndexError\u001b[0m                                Traceback (most recent call last)",
      "Cell \u001b[0;32mIn[8], line 1\u001b[0m\n\u001b[0;32m----> 1\u001b[0m plt\u001b[39m.\u001b[39mimshow(output[\u001b[39m0\u001b[39;49m,:,:][\u001b[39m27\u001b[39m:\u001b[39m144\u001b[39m, \u001b[39m27\u001b[39m:\u001b[39m144\u001b[39m]\u001b[39m/\u001b[39mnp\u001b[39m.\u001b[39msum(output[\u001b[39m0\u001b[39m,:,:][\u001b[39m27\u001b[39m:\u001b[39m144\u001b[39m, \u001b[39m27\u001b[39m:\u001b[39m144\u001b[39m]), vmax \u001b[39m=\u001b[39m \u001b[39m0.01\u001b[39m)\n",
      "\u001b[0;31mIndexError\u001b[0m: too many indices for array: array is 2-dimensional, but 3 were indexed"
     ]
    }
   ],
   "source": [
    "plt.imshow(output[0,:,:][27:144, 27:144]/np.sum(output[0,:,:][27:144, 27:144]), vmax = 0.01)"
   ]
  }
 ],
 "metadata": {
  "kernelspec": {
   "display_name": "pyms_og",
   "language": "python",
   "name": "python3"
  },
  "language_info": {
   "codemirror_mode": {
    "name": "ipython",
    "version": 3
   },
   "file_extension": ".py",
   "mimetype": "text/x-python",
   "name": "python",
   "nbconvert_exporter": "python",
   "pygments_lexer": "ipython3",
   "version": "3.11.3"
  },
  "vscode": {
   "interpreter": {
    "hash": "202a5cb1b9858a12568be1e4b17fefeeb1d885ada38b6bced3e4d2bdc064fdf2"
   }
  }
 },
 "nbformat": 4,
 "nbformat_minor": 2
}
